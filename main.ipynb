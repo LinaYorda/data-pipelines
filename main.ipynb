{
 "cells": [
  {
   "cell_type": "markdown",
   "metadata": {},
   "source": [
    "Creating airport table"
   ]
  },
  {
   "cell_type": "code",
   "execution_count": 1,
   "metadata": {},
   "outputs": [
    {
     "data": {
      "text/html": [
       "<div>\n",
       "<style scoped>\n",
       "    .dataframe tbody tr th:only-of-type {\n",
       "        vertical-align: middle;\n",
       "    }\n",
       "\n",
       "    .dataframe tbody tr th {\n",
       "        vertical-align: top;\n",
       "    }\n",
       "\n",
       "    .dataframe thead th {\n",
       "        text-align: right;\n",
       "    }\n",
       "</style>\n",
       "<table border=\"1\" class=\"dataframe\">\n",
       "  <thead>\n",
       "    <tr style=\"text-align: right;\">\n",
       "      <th></th>\n",
       "      <th>city</th>\n",
       "      <th>arrival_airport_icao</th>\n",
       "    </tr>\n",
       "  </thead>\n",
       "  <tbody>\n",
       "    <tr>\n",
       "      <th>0</th>\n",
       "      <td>Berlin</td>\n",
       "      <td>EDDB</td>\n",
       "    </tr>\n",
       "    <tr>\n",
       "      <th>1</th>\n",
       "      <td>Hamburg</td>\n",
       "      <td>EDDH</td>\n",
       "    </tr>\n",
       "    <tr>\n",
       "      <th>2</th>\n",
       "      <td>Munich</td>\n",
       "      <td>EDDM</td>\n",
       "    </tr>\n",
       "  </tbody>\n",
       "</table>\n",
       "</div>"
      ],
      "text/plain": [
       "      city arrival_airport_icao\n",
       "0   Berlin                 EDDB\n",
       "1  Hamburg                 EDDH\n",
       "2   Munich                 EDDM"
      ]
     },
     "execution_count": 1,
     "metadata": {},
     "output_type": "execute_result"
    }
   ],
   "source": [
    "import pandas as pd\n",
    "import sqlalchemy\n",
    "arrival_airport_icao=[\"EDDB\", \"EDDH\", \"EDDM\"]\n",
    "city=[\"Berlin\", \"Hamburg\", \"Munich\"]\n",
    "city_id=[1,2,3]\n",
    "airports=pd.DataFrame({\n",
    "    \"city\": city,\n",
    "    \"arrival_airport_icao\" : arrival_airport_icao,\n",
    "})\n",
    "airports"
   ]
  },
  {
   "cell_type": "markdown",
   "metadata": {},
   "source": [
    "Creating a population table."
   ]
  },
  {
   "cell_type": "code",
   "execution_count": 5,
   "metadata": {},
   "outputs": [
    {
     "data": {
      "text/html": [
       "<div>\n",
       "<style scoped>\n",
       "    .dataframe tbody tr th:only-of-type {\n",
       "        vertical-align: middle;\n",
       "    }\n",
       "\n",
       "    .dataframe tbody tr th {\n",
       "        vertical-align: top;\n",
       "    }\n",
       "\n",
       "    .dataframe thead th {\n",
       "        text-align: right;\n",
       "    }\n",
       "</style>\n",
       "<table border=\"1\" class=\"dataframe\">\n",
       "  <thead>\n",
       "    <tr style=\"text-align: right;\">\n",
       "      <th></th>\n",
       "      <th>City</th>\n",
       "      <th>Population</th>\n",
       "    </tr>\n",
       "  </thead>\n",
       "  <tbody>\n",
       "    <tr>\n",
       "      <th>0</th>\n",
       "      <td>Berlin</td>\n",
       "      <td>3850809</td>\n",
       "    </tr>\n",
       "    <tr>\n",
       "      <th>1</th>\n",
       "      <td>Hamburg</td>\n",
       "      <td>1945532</td>\n",
       "    </tr>\n",
       "    <tr>\n",
       "      <th>2</th>\n",
       "      <td>Munich</td>\n",
       "      <td>1512491</td>\n",
       "    </tr>\n",
       "  </tbody>\n",
       "</table>\n",
       "</div>"
      ],
      "text/plain": [
       "      City  Population\n",
       "0   Berlin     3850809\n",
       "1  Hamburg     1945532\n",
       "2   Munich     1512491"
      ]
     },
     "execution_count": 5,
     "metadata": {},
     "output_type": "execute_result"
    }
   ],
   "source": [
    "import pandas as pd\n",
    "import requests\n",
    "from bs4 import BeautifulSoup\n",
    "import re\n",
    "import pymysql\n",
    "from sqlalchemy import create_engine\n",
    "url1 = \"https://en.wikipedia.org/wiki/Berlin\"\n",
    "url2 = \"https://en.wikipedia.org/wiki/Hamburg\"\n",
    "url3 = \"https://en.wikipedia.org/wiki/Munich\"\n",
    "response1 = requests.get(url1)\n",
    "response2 = requests.get(url2)\n",
    "response3 = requests.get(url3)\n",
    "soup1 = BeautifulSoup(response1.content, 'html.parser')\n",
    "soup2 = BeautifulSoup(response2.content, 'html.parser')\n",
    "soup3 = BeautifulSoup(response3.content, 'html.parser')\n",
    "berlin_population=soup1.find(string=re.compile(\"Population\")).find_next(\"td\").get_text()\n",
    "hamburg_population=soup2.find(string=re.compile(\"Population\")).find_next(\"td\").get_text()\n",
    "munich_population=soup3.find(string=re.compile(\"Population\")).find_next(\"td\").get_text()\n",
    "\n",
    "cities=[\"Berlin\", \"Hamburg\", \"Munich\"]\n",
    "population=[]\n",
    "for city in cities:\n",
    "    url=f\"https://www.wikipedia.org/wiki/{city}\"\n",
    "    response=requests.get(url)\n",
    "    city_soup=BeautifulSoup(response.content, \"html.parser\")\n",
    "    \n",
    "    city_population=city_soup.find(string=re.compile(\"Population\")).find_next(\"td\").get_text()\n",
    "    city_population_clean=int(city_population.replace(\",\", \"\"))\n",
    "    population.append(city_population_clean)\n",
    "population\n",
    "\n",
    "table_cities=pd.DataFrame({\"City\": cities, \n",
    "                           \"Population\": population\n",
    "})\n",
    "\n",
    "table_cities"
   ]
  }
 ],
 "metadata": {
  "kernelspec": {
   "display_name": "Python 3",
   "language": "python",
   "name": "python3"
  },
  "language_info": {
   "codemirror_mode": {
    "name": "ipython",
    "version": 3
   },
   "file_extension": ".py",
   "mimetype": "text/x-python",
   "name": "python",
   "nbconvert_exporter": "python",
   "pygments_lexer": "ipython3",
   "version": "3.11.6"
  }
 },
 "nbformat": 4,
 "nbformat_minor": 2
}
