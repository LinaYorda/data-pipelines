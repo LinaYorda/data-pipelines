{
 "cells": [
  {
   "cell_type": "markdown",
   "metadata": {},
   "source": [
    "Create an API request from AeroDataBox for flights forcast for our desired cities. "
   ]
  },
  {
   "cell_type": "code",
   "execution_count": null,
   "metadata": {},
   "outputs": [],
   "source": [
    "import pandas as pd\n",
    "from dateutil import parser\n",
    "import requests\n",
    "from datetime import datetime, timedelta\n",
    "from pytz import timezone\n",
    "import sqlalchemy\n",
    "cities_icao = [\"EDDB\", \"EDDH\", \"EDDM\"]\n",
    "flight = []\n",
    "berlin_timezone = timezone(\"Europe/Berlin\")\n",
    "today = datetime.now(berlin_timezone).date()\n",
    "tomorrow = (today + timedelta(days=1))\n",
    "\n",
    "for city in cities_icao:\n",
    "    times = [[\"00:00\", \"11:59\"], [\"12:00\", \"23:59\"]]\n",
    "    for time in times:\n",
    "        url = f\"https://aerodatabox.p.rapidapi.com/flights/airports/icao/{city}/{tomorrow}T{time[0]}/{tomorrow}T{time[1]}\"\n",
    "        querystring = {\"direction\": \"Both\", \"withCancelled\": \"true\", \"withCodeshared\": \"true\", \"withCargo\": \"false\", \"withPrivate\": \"true\", \"withLocation\": \"false\"}\n",
    "        headers = {\n",
    "            \"X-RapidAPI-Key\": \"key\",\n",
    "            \"X-RapidAPI-Host\": \"aerodatabox.p.rapidapi.com\"\n",
    "        }\n",
    "        response = requests.get(url, headers=headers, params=querystring)\n",
    "        if response.status_code == 200:\n",
    "            flight_tem = response.json()\n",
    "            flights_all = pd.json_normalize(flight_tem[\"arrivals\"])\n",
    "            flights_all[\"city_arrival\"] = city\n",
    "            flight.append(flights_all)\n",
    "        else:\n",
    "            print(f\"Failed to fetch data for {city}, response.status_code\")\n",
    "\n",
    "flights = pd.concat(flight, ignore_index=True)\n",
    "flights=pd.DataFrame(flights, columns=[\"number\", \"status\", \"movement.airport.icao\", \"movement.airport.name\", \"movement.scheduledTime.local\", \"city_arrival\"])\n",
    "flights_fetch=flights.rename(columns={\"movement.airport.icao\" : \"departure_airport_icao\", \"movement.airport.name\" : \"departure_airport\", \"movement.scheduledTime.local\" : \"arrival_time\", \"city_arrival\" : \"arrival_airport_icao\"})\n",
    "flights_fetch\n",
    "flights_fetch['arrival_time'] = flights_fetch['arrival_time'].apply(lambda x: parser.parse(x).replace(tzinfo=None))\n",
    "flights_fetch\n",
    "\n",
    "def flights_to_sql():\n",
    "    schema = \"\"\n",
    "    host = \"\"\n",
    "    user = \"\"\n",
    "    password = \"\"\n",
    "    port = 3306 \n",
    "    connection_string = f'mysql+pymysql://{user}:{password}@{host}:{port}/{schema}'\n",
    "    flights_fetch.to_sql(\"flights\", if_exists=\"replace\", con=connection_string, index=False)\n",
    "\n",
    "flights_to_sql()\n",
    "flights_fetch"
   ]
  }
 ],
 "metadata": {
  "language_info": {
   "name": "python"
  }
 },
 "nbformat": 4,
 "nbformat_minor": 2
}
