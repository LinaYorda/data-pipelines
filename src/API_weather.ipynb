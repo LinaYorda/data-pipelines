{
 "cells": [
  {
   "cell_type": "markdown",
   "metadata": {},
   "source": [
    "Create an API request from OpenWeatherMap for a weather data for our desired cities. "
   ]
  },
  {
   "cell_type": "code",
   "execution_count": null,
   "metadata": {},
   "outputs": [],
   "source": [
    "import pandas as pd\n",
    "import requests\n",
    "from requests.exceptions import HTTPError, ConnectionError, Timeout, RequestException\n",
    "from api_keys import API_key\n",
    "\n",
    "cities= [\"Berlin\", \"Hamburg\", \"Munich\"]\n",
    "weather_set = [] \n",
    "\n",
    "for city in cities:\n",
    "    try:\n",
    "        response=requests.get(f\"http://api.openweathermap.org/data/2.5/forecast?q={city}&appid={API_key}&units=metric\")\n",
    "        data=response.json()\n",
    "        weather_all=pd.json_normalize(data[\"list\"])\n",
    "        weather_all[\"city\"]=city\n",
    "        weather_set.append(weather_all)\n",
    "    \n",
    "    except HTTPError as http_err:\n",
    "        print(f\"HTTP error occured for {city} : {http_err}\")\n",
    "    except ConnectionError as conn_err:\n",
    "        print(f\"Connection error occured for {city} : {conn_err}\")\n",
    "    except Timeout as timeout:\n",
    "        print(f\"Timeout error occurred for {city} : {timeout}\")\n",
    "    except RequestException as req_error:\n",
    "        print(f\"Request error occured for {city} : {req_error}\")\n",
    "    except Exception as exception:\n",
    "        print(f\"An unexpected error occurred for {city} : {exception}\")\n",
    "            \n",
    "weather_fetch=pd.concat(weather_set, ignore_index=True)\n",
    "\n",
    "weather_fetch=weather_fetch.drop([\"rain.3h\",\"sys.pod\",\"main.sea_level\", \"main.grnd_level\", \"main.temp_kf\", \"wind.gust\", \"wind.deg\", \"clouds.all\", \"wind.speed\", \"main.humidity\", \"main.pressure\",\"dt\", \"pop\", \"visibility\", \"main.feels_like\"], axis=1)\n",
    "\n",
    "weather_fetch[\"city_id\"]=\"\"\n",
    "weather_fetch.loc[weather_fetch[\"city\"] == \"Berlin\", \"city_id\"]=1\n",
    "weather_fetch.loc[weather_fetch[\"city\"] == \"Hamburg\", \"city_id\"]=2\n",
    "weather_fetch.loc[weather_fetch[\"city\"] == \"Munich\", \"city_id\"]=3\n",
    "weather_fetch[\"conditions\"]=\"\"\n",
    "\n",
    "def conditions(row):\n",
    "    if \"Clear\" in row[\"weather\"][0][\"main\"]:\n",
    "        return \"Clear\"\n",
    "    elif \"Clouds\" in row[\"weather\"][0][\"main\"]:\n",
    "        return \"Clouds\"\n",
    "    else:\n",
    "        return \"Rain\"\n",
    "conditions\n",
    "\n",
    "weather_fetch[\"conditions\"]=weather_fetch.apply(conditions, axis=1)\n",
    "\n",
    "weather_fetch=weather_fetch.drop([\"weather\"], axis=1)\n",
    "weather_fetch=weather_fetch.rename(columns={\"conditions\": \"weather\"})\n",
    "weather_fetch=weather_fetch.rename(columns={\"main.temp\": \"temperature\"})\n",
    "weather_fetch=weather_fetch.rename(columns={\"main.temp_min\": \"temp_min\"})\n",
    "weather_fetch=weather_fetch.rename(columns={\"main.temp_max\": \"temp_max\"})\n",
    "weather_fetch\n",
    "def table_to_sql():\n",
    "    schema = \"\"\n",
    "    host = \"\"\n",
    "    user = \"\"\n",
    "    password = \"\"\n",
    "    port = 3306 \n",
    "    connection_string = f'mysql+pymysql://{user}:{password}@{host}:{port}/{schema}'\n",
    "    weather_fetch.to_sql(\"weather\", if_exists=\"replace\", con=connection_string, index=False)\n",
    "table_to_sql()\n",
    "weather_fetch"
   ]
  }
 ],
 "metadata": {
  "kernelspec": {
   "display_name": "Python 3",
   "language": "python",
   "name": "python3"
  },
  "language_info": {
   "codemirror_mode": {
    "name": "ipython",
    "version": 3
   },
   "file_extension": ".py",
   "mimetype": "text/x-python",
   "name": "python",
   "nbconvert_exporter": "python",
   "pygments_lexer": "ipython3",
   "version": "3.11.6"
  }
 },
 "nbformat": 4,
 "nbformat_minor": 2
}
